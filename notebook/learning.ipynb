{
 "cells": [
  {
   "cell_type": "code",
   "execution_count": 3,
   "metadata": {},
   "outputs": [],
   "source": [
    "import json\n",
    "import random\n",
    "import time\n",
    "import numpy as np\n",
    "from faker import Faker\n",
    "from sklearn.neighbors import KNeighborsClassifier\n",
    "from sklearn.model_selection import train_test_split\n",
    "from sklearn.preprocessing import LabelEncoder\n"
   ]
  },
  {
   "cell_type": "code",
   "execution_count": 4,
   "metadata": {},
   "outputs": [],
   "source": [
    "fake = Faker()\n",
    "\n",
    "# Generate call data\n",
    "def generate_call_data():\n",
    "    return {\n",
    "        \"call_duration\": round(random.uniform(0.5, 30.0), 2),  # Call duration in minutes\n",
    "        \"caller_number\": fake.phone_number(),\n",
    "        \"receiver_number\": fake.phone_number(),\n",
    "        \"is_scam\": random.choice([True, False])  # Label (target)\n",
    "    }\n",
    "\n",
    "# Collect training data\n",
    "data = []\n",
    "labels = []"
   ]
  },
  {
   "cell_type": "code",
   "execution_count": 5,
   "metadata": {},
   "outputs": [
    {
     "name": "stdout",
     "output_type": "stream",
     "text": [
      "Starting call data collection...\n"
     ]
    }
   ],
   "source": [
    "count = 1\n",
    "\n",
    "print(\"Starting call data collection...\")\n",
    "while count< 1000:  # Collect data for 10 seconds\n",
    "    call_data = generate_call_data()\n",
    "    data.append([call_data[\"call_duration\"]])  # Using only call_duration as feature\n",
    "    labels.append(call_data[\"is_scam\"])\n",
    "    count +=1\n"
   ]
  },
  {
   "cell_type": "code",
   "execution_count": 6,
   "metadata": {},
   "outputs": [
    {
     "name": "stdout",
     "output_type": "stream",
     "text": [
      "Splitting data into training and testing sets...\n",
      "Training KNN model...\n",
      "KNN model training completed.\n",
      "Testing with new call duration: 23.397999919828948 minutes\n",
      "Predicted Scam: Yes\n"
     ]
    }
   ],
   "source": [
    "# Convert labels to numerical values (True -> 1, False -> 0)\n",
    "labels = np.array(labels, dtype=int)\n",
    "\n",
    "# Split data into training and testing sets\n",
    "print(\"Splitting data into training and testing sets...\")\n",
    "X_train, X_test, y_train, y_test = train_test_split(data, labels, test_size=0.2, random_state=42)\n",
    "\n",
    "# Train KNN model\n",
    "print(\"Training KNN model...\")\n",
    "knn = KNeighborsClassifier(n_neighbors=3)\n",
    "knn.fit(X_train, y_train)\n",
    "print(\"KNN model training completed.\")\n",
    "\n",
    "# Test model on new call data\n",
    "test_call = [[random.uniform(0.5, 30.0)]]  # Generate random call duration\n",
    "print(f\"Testing with new call duration: {test_call[0][0]} minutes\")\n",
    "prediction = knn.predict(test_call)\n",
    "print(f\"Predicted Scam: {'Yes' if prediction[0] else 'No'}\")\n"
   ]
  }
 ],
 "metadata": {
  "kernelspec": {
   "display_name": "HiVT",
   "language": "python",
   "name": "python3"
  },
  "language_info": {
   "codemirror_mode": {
    "name": "ipython",
    "version": 3
   },
   "file_extension": ".py",
   "mimetype": "text/x-python",
   "name": "python",
   "nbconvert_exporter": "python",
   "pygments_lexer": "ipython3",
   "version": "3.8.16"
  }
 },
 "nbformat": 4,
 "nbformat_minor": 2
}
